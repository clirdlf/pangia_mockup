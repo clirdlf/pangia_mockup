{
 "cells": [
  {
   "cell_type": "code",
   "execution_count": 1,
   "metadata": {},
   "outputs": [
    {
     "name": "stdout",
     "output_type": "stream",
     "text": [
      "Requirement already satisfied: slugify in /opt/homebrew/lib/python3.10/site-packages (0.0.1)\n",
      "Requirement already satisfied: packaging in /Users/wgraham/Library/Python/3.10/lib/python/site-packages (21.3)\n",
      "Requirement already satisfied: requests in /opt/homebrew/lib/python3.10/site-packages (2.28.1)\n",
      "Requirement already satisfied: pyparsing!=3.0.5,>=2.0.2 in /Users/wgraham/Library/Python/3.10/lib/python/site-packages (from packaging) (3.0.9)\n",
      "Requirement already satisfied: charset-normalizer<3,>=2 in /opt/homebrew/lib/python3.10/site-packages (from requests) (2.1.1)\n",
      "Requirement already satisfied: idna<4,>=2.5 in /opt/homebrew/lib/python3.10/site-packages (from requests) (3.4)\n",
      "Requirement already satisfied: urllib3<1.27,>=1.21.1 in /opt/homebrew/lib/python3.10/site-packages (from requests) (1.26.12)\n",
      "Requirement already satisfied: certifi>=2017.4.17 in /opt/homebrew/lib/python3.10/site-packages (from requests) (2022.9.24)\n"
     ]
    }
   ],
   "source": [
    "!pip install slugify packaging requests"
   ]
  },
  {
   "cell_type": "code",
   "execution_count": 2,
   "metadata": {},
   "outputs": [
    {
     "ename": "ModuleNotFoundError",
     "evalue": "No module named 'requests'",
     "output_type": "error",
     "traceback": [
      "\u001b[0;31m---------------------------------------------------------------------------\u001b[0m",
      "\u001b[0;31mModuleNotFoundError\u001b[0m                       Traceback (most recent call last)",
      "Cell \u001b[0;32mIn[2], line 1\u001b[0m\n\u001b[0;32m----> 1\u001b[0m \u001b[39mimport\u001b[39;00m \u001b[39mrequests\u001b[39;00m\n\u001b[1;32m      2\u001b[0m \u001b[39mimport\u001b[39;00m \u001b[39mjson\u001b[39;00m\n\u001b[1;32m      3\u001b[0m \u001b[39mimport\u001b[39;00m \u001b[39mos\u001b[39;00m\n",
      "\u001b[0;31mModuleNotFoundError\u001b[0m: No module named 'requests'"
     ]
    }
   ],
   "source": [
    "import requests\n",
    "import json\n",
    "import os\n",
    "\n",
    "# Set the Zenodo API endpoint\n",
    "endpoint = \"https://zenodo.org/api/records/\"\n",
    "params = { 'q': 'Climate Change' }\n",
    "\n",
    "# Get the list of all records\n",
    "response = requests.get(endpoint, params=params)\n",
    "# Filter the records for those relating to climate change\n",
    "# climate_change_records = [record for record in records if record[\"metadata\"][\"title\"].startswith(\"Climate change\")]\n"
   ]
  },
  {
   "cell_type": "code",
   "execution_count": 6,
   "metadata": {},
   "outputs": [
    {
     "ename": "ModuleNotFoundError",
     "evalue": "No module named 'slugify'",
     "output_type": "error",
     "traceback": [
      "\u001b[0;31m---------------------------------------------------------------------------\u001b[0m",
      "\u001b[0;31mModuleNotFoundError\u001b[0m                       Traceback (most recent call last)",
      "\u001b[1;32m/Users/wgraham/projects/pangia_mockup/notebooks/zenodoa.ipynb Cell 3\u001b[0m in \u001b[0;36m<module>\u001b[0;34m\u001b[0m\n\u001b[0;32m----> <a href='vscode-notebook-cell:/Users/wgraham/projects/pangia_mockup/notebooks/zenodoa.ipynb#W2sZmlsZQ%3D%3D?line=0'>1</a>\u001b[0m \u001b[39mfrom\u001b[39;00m \u001b[39mslugify\u001b[39;00m \u001b[39mimport\u001b[39;00m slugify\n\u001b[1;32m      <a href='vscode-notebook-cell:/Users/wgraham/projects/pangia_mockup/notebooks/zenodoa.ipynb#W2sZmlsZQ%3D%3D?line=2'>3</a>\u001b[0m \u001b[39mif\u001b[39;00m response\u001b[39m.\u001b[39mstatus_code \u001b[39m==\u001b[39m \u001b[39m200\u001b[39m:\n\u001b[1;32m      <a href='vscode-notebook-cell:/Users/wgraham/projects/pangia_mockup/notebooks/zenodoa.ipynb#W2sZmlsZQ%3D%3D?line=3'>4</a>\u001b[0m     \u001b[39m# parse the reponse as JSON\u001b[39;00m\n\u001b[1;32m      <a href='vscode-notebook-cell:/Users/wgraham/projects/pangia_mockup/notebooks/zenodoa.ipynb#W2sZmlsZQ%3D%3D?line=4'>5</a>\u001b[0m     data \u001b[39m=\u001b[39m json\u001b[39m.\u001b[39mloads(response\u001b[39m.\u001b[39mtext)\n",
      "\u001b[0;31mModuleNotFoundError\u001b[0m: No module named 'slugify'"
     ]
    }
   ],
   "source": [
    "from slugify import slugify\n",
    "\n",
    "if response.status_code == 200:\n",
    "    # parse the reponse as JSON\n",
    "    data = json.loads(response.text)\n",
    "    \n",
    "    # Create a directory to store markdown files\n",
    "    folder_name = \"zenodo\"\n",
    "    if not os.path.exists(folder_name):\n",
    "        os.makedirs(folder_name)\n",
    "\n",
    "    # Loop through each record in the response data and write it as a markdown file\n",
    "    for record in data['hits']['hits']:\n",
    "        title = record['metadata']['title']\n",
    "        record_id = record['id']\n",
    "\n",
    "        landing_page = record['links']['html']\n",
    "        file_name = f\"{folder_name}/{slugify(title)}.md\"\n",
    "\n",
    "        print(record)\n",
    "\n",
    "        with open(file_name, \"w\") as f:\n",
    "            f.write(f\"---\\n\")\n",
    "            f.write(f\"layout: record\\n\")\n",
    "            f.write(f\"title: {title}\\n\")\n",
    "            f.write(f\"record_id: {record_id}\\n\")\n",
    "            f.write(f\"url: {landing_page}\\n\")\n",
    "            f.write(f\"authors: {record['metadata']['creators']}\\n\")\n",
    "            f.write(f\"publication_date: {record['metadata']['publication_date']}\\n\")\n",
    "            f.write(f\"description: {record['metadata']['description']}\\n\")\n",
    "            # f.write(f\"license: {record['metadata']['license']}\\n\")\n",
    "            f.write(f\"---\\n\\n\")\n",
    "        exit()\n",
    "    print(\"Markdown files successfully written\")\n",
    "else:\n",
    "    print(\"Error: failed to retrieve records from the Zenodo API.\")\n"
   ]
  }
 ],
 "metadata": {
  "kernelspec": {
   "display_name": "Python 3",
   "language": "python",
   "name": "python3"
  },
  "language_info": {
   "codemirror_mode": {
    "name": "ipython",
    "version": 3
   },
   "file_extension": ".py",
   "mimetype": "text/x-python",
   "name": "python",
   "nbconvert_exporter": "python",
   "pygments_lexer": "ipython3",
   "version": "3.11.4"
  },
  "orig_nbformat": 4
 },
 "nbformat": 4,
 "nbformat_minor": 2
}
