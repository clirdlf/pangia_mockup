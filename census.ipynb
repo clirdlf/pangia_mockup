{
 "cells": [
  {
   "cell_type": "code",
   "execution_count": 1,
   "metadata": {},
   "outputs": [
    {
     "name": "stdout",
     "output_type": "stream",
     "text": [
      "Requirement already satisfied: leafmap in /Users/wgraham/.pyenv/versions/3.9.13/lib/python3.9/site-packages (0.18.8)\n",
      "Requirement already satisfied: numpy in /Users/wgraham/.pyenv/versions/3.9.13/lib/python3.9/site-packages (from leafmap) (1.23.1)\n",
      "Requirement already satisfied: ipyfilechooser>=0.6.0 in /Users/wgraham/.pyenv/versions/3.9.13/lib/python3.9/site-packages (from leafmap) (0.6.0)\n",
      "Requirement already satisfied: colour in /Users/wgraham/.pyenv/versions/3.9.13/lib/python3.9/site-packages (from leafmap) (0.1.5)\n",
      "Requirement already satisfied: ipyleaflet>=0.17.0 in /Users/wgraham/.pyenv/versions/3.9.13/lib/python3.9/site-packages (from leafmap) (0.17.2)\n",
      "Requirement already satisfied: ipywidgets<8.0.0 in /Users/wgraham/.pyenv/versions/3.9.13/lib/python3.9/site-packages (from leafmap) (7.7.5)\n",
      "Requirement already satisfied: pystac-client in /Users/wgraham/.pyenv/versions/3.9.13/lib/python3.9/site-packages (from leafmap) (0.6.1)\n",
      "Requirement already satisfied: bqplot in /Users/wgraham/.pyenv/versions/3.9.13/lib/python3.9/site-packages (from leafmap) (0.12.37)\n",
      "Requirement already satisfied: xyzservices in /Users/wgraham/.pyenv/versions/3.9.13/lib/python3.9/site-packages (from leafmap) (2023.2.0)\n",
      "Requirement already satisfied: matplotlib in /Users/wgraham/.pyenv/versions/3.9.13/lib/python3.9/site-packages (from leafmap) (3.7.1)\n",
      "Requirement already satisfied: pyshp>=2.1.3 in /Users/wgraham/.pyenv/versions/3.9.13/lib/python3.9/site-packages (from leafmap) (2.3.1)\n",
      "Requirement already satisfied: pandas in /Users/wgraham/.pyenv/versions/3.9.13/lib/python3.9/site-packages (from leafmap) (1.5.3)\n",
      "Requirement already satisfied: folium<=0.13.0,>=0.11.0 in /Users/wgraham/.pyenv/versions/3.9.13/lib/python3.9/site-packages (from leafmap) (0.13.0)\n",
      "Requirement already satisfied: gdown in /Users/wgraham/.pyenv/versions/3.9.13/lib/python3.9/site-packages (from leafmap) (4.7.1)\n",
      "Requirement already satisfied: python-box in /Users/wgraham/.pyenv/versions/3.9.13/lib/python3.9/site-packages (from leafmap) (7.0.1)\n",
      "Requirement already satisfied: whiteboxgui>=0.6.0 in /Users/wgraham/.pyenv/versions/3.9.13/lib/python3.9/site-packages (from leafmap) (2.3.0)\n",
      "Requirement already satisfied: ipykernel in /Users/wgraham/.pyenv/versions/3.9.13/lib/python3.9/site-packages (from leafmap) (6.15.0)\n",
      "Requirement already satisfied: scooby in /Users/wgraham/.pyenv/versions/3.9.13/lib/python3.9/site-packages (from leafmap) (0.7.1)\n",
      "Requirement already satisfied: geojson in /Users/wgraham/.pyenv/versions/3.9.13/lib/python3.9/site-packages (from leafmap) (3.0.1)\n",
      "Requirement already satisfied: ipyevents in /Users/wgraham/.pyenv/versions/3.9.13/lib/python3.9/site-packages (from leafmap) (2.0.1)\n",
      "Requirement already satisfied: jinja2>=2.9 in /Users/wgraham/.local/lib/python3.9/site-packages (from folium<=0.13.0,>=0.11.0->leafmap) (3.1.2)\n",
      "Requirement already satisfied: branca>=0.3.0 in /Users/wgraham/.pyenv/versions/3.9.13/lib/python3.9/site-packages (from folium<=0.13.0,>=0.11.0->leafmap) (0.6.0)\n",
      "Requirement already satisfied: requests in /Users/wgraham/.pyenv/versions/3.9.13/lib/python3.9/site-packages (from folium<=0.13.0,>=0.11.0->leafmap) (2.27.1)\n",
      "Requirement already satisfied: traittypes<3,>=0.2.1 in /Users/wgraham/.pyenv/versions/3.9.13/lib/python3.9/site-packages (from ipyleaflet>=0.17.0->leafmap) (0.2.1)\n",
      "Requirement already satisfied: traitlets>=4.3.1 in /Users/wgraham/.pyenv/versions/3.9.13/lib/python3.9/site-packages (from ipywidgets<8.0.0->leafmap) (5.9.0)\n",
      "Requirement already satisfied: jupyterlab-widgets<3,>=1.0.0 in /Users/wgraham/.pyenv/versions/3.9.13/lib/python3.9/site-packages (from ipywidgets<8.0.0->leafmap) (1.1.4)\n",
      "Requirement already satisfied: ipython-genutils~=0.2.0 in /Users/wgraham/.pyenv/versions/3.9.13/lib/python3.9/site-packages (from ipywidgets<8.0.0->leafmap) (0.2.0)\n",
      "Requirement already satisfied: ipython>=4.0.0 in /Users/wgraham/.pyenv/versions/3.9.13/lib/python3.9/site-packages (from ipywidgets<8.0.0->leafmap) (8.5.0)\n",
      "Requirement already satisfied: widgetsnbextension~=3.6.4 in /Users/wgraham/.pyenv/versions/3.9.13/lib/python3.9/site-packages (from ipywidgets<8.0.0->leafmap) (3.6.4)\n",
      "Requirement already satisfied: matplotlib-inline>=0.1 in /Users/wgraham/.pyenv/versions/3.9.13/lib/python3.9/site-packages (from ipykernel->leafmap) (0.1.6)\n",
      "Requirement already satisfied: psutil in /Users/wgraham/.pyenv/versions/3.9.13/lib/python3.9/site-packages (from ipykernel->leafmap) (5.9.2)\n",
      "Requirement already satisfied: nest-asyncio in /Users/wgraham/.pyenv/versions/3.9.13/lib/python3.9/site-packages (from ipykernel->leafmap) (1.5.6)\n",
      "Requirement already satisfied: tornado>=6.1 in /Users/wgraham/.pyenv/versions/3.9.13/lib/python3.9/site-packages (from ipykernel->leafmap) (6.1)\n",
      "Requirement already satisfied: appnope in /Users/wgraham/.pyenv/versions/3.9.13/lib/python3.9/site-packages (from ipykernel->leafmap) (0.1.3)\n",
      "Requirement already satisfied: pyzmq>=17 in /Users/wgraham/.pyenv/versions/3.9.13/lib/python3.9/site-packages (from ipykernel->leafmap) (24.0.1)\n",
      "Requirement already satisfied: debugpy>=1.0 in /Users/wgraham/.pyenv/versions/3.9.13/lib/python3.9/site-packages (from ipykernel->leafmap) (1.6.3)\n",
      "Requirement already satisfied: jupyter-client>=6.1.12 in /Users/wgraham/.pyenv/versions/3.9.13/lib/python3.9/site-packages (from ipykernel->leafmap) (7.3.4)\n",
      "Requirement already satisfied: packaging in /Users/wgraham/.local/lib/python3.9/site-packages (from ipykernel->leafmap) (21.3)\n",
      "Requirement already satisfied: whitebox in /Users/wgraham/.pyenv/versions/3.9.13/lib/python3.9/site-packages (from whiteboxgui>=0.6.0->leafmap) (2.3.1)\n",
      "Requirement already satisfied: ipytree in /Users/wgraham/.pyenv/versions/3.9.13/lib/python3.9/site-packages (from whiteboxgui>=0.6.0->leafmap) (0.2.2)\n",
      "Requirement already satisfied: pytz>=2020.1 in /Users/wgraham/.pyenv/versions/3.9.13/lib/python3.9/site-packages (from pandas->leafmap) (2022.1)\n",
      "Requirement already satisfied: python-dateutil>=2.8.1 in /Users/wgraham/.pyenv/versions/3.9.13/lib/python3.9/site-packages (from pandas->leafmap) (2.8.2)\n",
      "Requirement already satisfied: beautifulsoup4 in /Users/wgraham/.pyenv/versions/3.9.13/lib/python3.9/site-packages (from gdown->leafmap) (4.8.2)\n",
      "Requirement already satisfied: six in /Users/wgraham/.pyenv/versions/3.9.13/lib/python3.9/site-packages (from gdown->leafmap) (1.16.0)\n",
      "Requirement already satisfied: filelock in /Users/wgraham/.pyenv/versions/3.9.13/lib/python3.9/site-packages (from gdown->leafmap) (3.9.0)\n",
      "Requirement already satisfied: tqdm in /Users/wgraham/.pyenv/versions/3.9.13/lib/python3.9/site-packages (from gdown->leafmap) (4.64.1)\n",
      "Requirement already satisfied: pillow>=6.2.0 in /Users/wgraham/.pyenv/versions/3.9.13/lib/python3.9/site-packages (from matplotlib->leafmap) (9.3.0)\n",
      "Requirement already satisfied: fonttools>=4.22.0 in /Users/wgraham/.pyenv/versions/3.9.13/lib/python3.9/site-packages (from matplotlib->leafmap) (4.38.0)\n",
      "Requirement already satisfied: cycler>=0.10 in /Users/wgraham/.pyenv/versions/3.9.13/lib/python3.9/site-packages (from matplotlib->leafmap) (0.11.0)\n",
      "Requirement already satisfied: pyparsing>=2.3.1 in /Users/wgraham/.local/lib/python3.9/site-packages (from matplotlib->leafmap) (3.0.9)\n",
      "Requirement already satisfied: contourpy>=1.0.1 in /Users/wgraham/.pyenv/versions/3.9.13/lib/python3.9/site-packages (from matplotlib->leafmap) (1.0.6)\n",
      "Requirement already satisfied: kiwisolver>=1.0.1 in /Users/wgraham/.pyenv/versions/3.9.13/lib/python3.9/site-packages (from matplotlib->leafmap) (1.4.4)\n",
      "Requirement already satisfied: importlib-resources>=3.2.0 in /Users/wgraham/.pyenv/versions/3.9.13/lib/python3.9/site-packages (from matplotlib->leafmap) (5.12.0)\n",
      "Requirement already satisfied: pystac>=1.7.0 in /Users/wgraham/.pyenv/versions/3.9.13/lib/python3.9/site-packages (from pystac-client->leafmap) (1.7.1)\n",
      "Requirement already satisfied: zipp>=3.1.0 in /Users/wgraham/.pyenv/versions/3.9.13/lib/python3.9/site-packages (from importlib-resources>=3.2.0->matplotlib->leafmap) (3.13.0)\n",
      "Requirement already satisfied: decorator in /Users/wgraham/.pyenv/versions/3.9.13/lib/python3.9/site-packages (from ipython>=4.0.0->ipywidgets<8.0.0->leafmap) (5.1.1)\n",
      "Requirement already satisfied: pexpect>4.3 in /Users/wgraham/.pyenv/versions/3.9.13/lib/python3.9/site-packages (from ipython>=4.0.0->ipywidgets<8.0.0->leafmap) (4.8.0)\n",
      "Requirement already satisfied: stack-data in /Users/wgraham/.pyenv/versions/3.9.13/lib/python3.9/site-packages (from ipython>=4.0.0->ipywidgets<8.0.0->leafmap) (0.5.1)\n",
      "Requirement already satisfied: jedi>=0.16 in /Users/wgraham/.pyenv/versions/3.9.13/lib/python3.9/site-packages (from ipython>=4.0.0->ipywidgets<8.0.0->leafmap) (0.18.1)\n",
      "Requirement already satisfied: prompt-toolkit<3.1.0,>3.0.1 in /Users/wgraham/.pyenv/versions/3.9.13/lib/python3.9/site-packages (from ipython>=4.0.0->ipywidgets<8.0.0->leafmap) (3.0.31)\n",
      "Requirement already satisfied: backcall in /Users/wgraham/.pyenv/versions/3.9.13/lib/python3.9/site-packages (from ipython>=4.0.0->ipywidgets<8.0.0->leafmap) (0.2.0)\n",
      "Requirement already satisfied: pygments>=2.4.0 in /Users/wgraham/.pyenv/versions/3.9.13/lib/python3.9/site-packages (from ipython>=4.0.0->ipywidgets<8.0.0->leafmap) (2.13.0)\n",
      "Requirement already satisfied: pickleshare in /Users/wgraham/.pyenv/versions/3.9.13/lib/python3.9/site-packages (from ipython>=4.0.0->ipywidgets<8.0.0->leafmap) (0.7.5)\n",
      "Requirement already satisfied: MarkupSafe>=2.0 in /Users/wgraham/.local/lib/python3.9/site-packages (from jinja2>=2.9->folium<=0.13.0,>=0.11.0->leafmap) (2.1.1)\n",
      "Requirement already satisfied: jupyter-core>=4.9.2 in /Users/wgraham/.pyenv/versions/3.9.13/lib/python3.9/site-packages (from jupyter-client>=6.1.12->ipykernel->leafmap) (5.2.0)\n",
      "Requirement already satisfied: entrypoints in /Users/wgraham/.pyenv/versions/3.9.13/lib/python3.9/site-packages (from jupyter-client>=6.1.12->ipykernel->leafmap) (0.4)\n",
      "Requirement already satisfied: charset-normalizer~=2.0.0 in /Users/wgraham/.pyenv/versions/3.9.13/lib/python3.9/site-packages (from requests->folium<=0.13.0,>=0.11.0->leafmap) (2.0.12)\n",
      "Requirement already satisfied: urllib3<1.27,>=1.21.1 in /Users/wgraham/.pyenv/versions/3.9.13/lib/python3.9/site-packages (from requests->folium<=0.13.0,>=0.11.0->leafmap) (1.26.12)\n",
      "Requirement already satisfied: idna<4,>=2.5 in /Users/wgraham/.pyenv/versions/3.9.13/lib/python3.9/site-packages (from requests->folium<=0.13.0,>=0.11.0->leafmap) (3.4)\n",
      "Requirement already satisfied: certifi>=2017.4.17 in /Users/wgraham/.pyenv/versions/3.9.13/lib/python3.9/site-packages (from requests->folium<=0.13.0,>=0.11.0->leafmap) (2022.9.24)\n",
      "Requirement already satisfied: notebook>=4.4.1 in /Users/wgraham/.pyenv/versions/3.9.13/lib/python3.9/site-packages (from widgetsnbextension~=3.6.4->ipywidgets<8.0.0->leafmap) (6.5.2)\n",
      "Requirement already satisfied: soupsieve>=1.2 in /Users/wgraham/.pyenv/versions/3.9.13/lib/python3.9/site-packages (from beautifulsoup4->gdown->leafmap) (2.3.2.post1)\n",
      "Requirement already satisfied: PySocks!=1.5.7,>=1.5.6 in /Users/wgraham/.pyenv/versions/3.9.13/lib/python3.9/site-packages (from requests->folium<=0.13.0,>=0.11.0->leafmap) (1.7.1)\n",
      "Requirement already satisfied: Click>=6.0 in /Users/wgraham/.pyenv/versions/3.9.13/lib/python3.9/site-packages (from whitebox->whiteboxgui>=0.6.0->leafmap) (8.1.3)\n",
      "Requirement already satisfied: parso<0.9.0,>=0.8.0 in /Users/wgraham/.pyenv/versions/3.9.13/lib/python3.9/site-packages (from jedi>=0.16->ipython>=4.0.0->ipywidgets<8.0.0->leafmap) (0.8.3)\n",
      "Requirement already satisfied: platformdirs>=2.5 in /Users/wgraham/.pyenv/versions/3.9.13/lib/python3.9/site-packages (from jupyter-core>=4.9.2->jupyter-client>=6.1.12->ipykernel->leafmap) (3.0.0)\n",
      "Requirement already satisfied: terminado>=0.8.3 in /Users/wgraham/.pyenv/versions/3.9.13/lib/python3.9/site-packages (from notebook>=4.4.1->widgetsnbextension~=3.6.4->ipywidgets<8.0.0->leafmap) (0.17.1)\n",
      "Requirement already satisfied: argon2-cffi in /Users/wgraham/.pyenv/versions/3.9.13/lib/python3.9/site-packages (from notebook>=4.4.1->widgetsnbextension~=3.6.4->ipywidgets<8.0.0->leafmap) (21.3.0)\n",
      "Requirement already satisfied: nbformat in /Users/wgraham/.pyenv/versions/3.9.13/lib/python3.9/site-packages (from notebook>=4.4.1->widgetsnbextension~=3.6.4->ipywidgets<8.0.0->leafmap) (5.7.3)\n",
      "Requirement already satisfied: prometheus-client in /Users/wgraham/.pyenv/versions/3.9.13/lib/python3.9/site-packages (from notebook>=4.4.1->widgetsnbextension~=3.6.4->ipywidgets<8.0.0->leafmap) (0.16.0)\n",
      "Requirement already satisfied: nbclassic>=0.4.7 in /Users/wgraham/.pyenv/versions/3.9.13/lib/python3.9/site-packages (from notebook>=4.4.1->widgetsnbextension~=3.6.4->ipywidgets<8.0.0->leafmap) (0.5.1)\n",
      "Requirement already satisfied: nbconvert>=5 in /Users/wgraham/.pyenv/versions/3.9.13/lib/python3.9/site-packages (from notebook>=4.4.1->widgetsnbextension~=3.6.4->ipywidgets<8.0.0->leafmap) (7.2.9)\n",
      "Requirement already satisfied: Send2Trash>=1.8.0 in /Users/wgraham/.pyenv/versions/3.9.13/lib/python3.9/site-packages (from notebook>=4.4.1->widgetsnbextension~=3.6.4->ipywidgets<8.0.0->leafmap) (1.8.0)\n",
      "Requirement already satisfied: ptyprocess>=0.5 in /Users/wgraham/.pyenv/versions/3.9.13/lib/python3.9/site-packages (from pexpect>4.3->ipython>=4.0.0->ipywidgets<8.0.0->leafmap) (0.7.0)\n",
      "Requirement already satisfied: wcwidth in /Users/wgraham/.pyenv/versions/3.9.13/lib/python3.9/site-packages (from prompt-toolkit<3.1.0,>3.0.1->ipython>=4.0.0->ipywidgets<8.0.0->leafmap) (0.2.5)\n",
      "Requirement already satisfied: asttokens in /Users/wgraham/.pyenv/versions/3.9.13/lib/python3.9/site-packages (from stack-data->ipython>=4.0.0->ipywidgets<8.0.0->leafmap) (2.0.8)\n",
      "Requirement already satisfied: pure-eval in /Users/wgraham/.pyenv/versions/3.9.13/lib/python3.9/site-packages (from stack-data->ipython>=4.0.0->ipywidgets<8.0.0->leafmap) (0.2.2)\n",
      "Requirement already satisfied: executing in /Users/wgraham/.pyenv/versions/3.9.13/lib/python3.9/site-packages (from stack-data->ipython>=4.0.0->ipywidgets<8.0.0->leafmap) (1.1.1)\n",
      "Requirement already satisfied: jupyter-server>=1.17.0 in /Users/wgraham/.pyenv/versions/3.9.13/lib/python3.9/site-packages (from nbclassic>=0.4.7->notebook>=4.4.1->widgetsnbextension~=3.6.4->ipywidgets<8.0.0->leafmap) (1.23.5)\n",
      "Requirement already satisfied: notebook-shim>=0.1.0 in /Users/wgraham/.pyenv/versions/3.9.13/lib/python3.9/site-packages (from nbclassic>=0.4.7->notebook>=4.4.1->widgetsnbextension~=3.6.4->ipywidgets<8.0.0->leafmap) (0.2.2)\n",
      "Requirement already satisfied: jupyterlab-pygments in /Users/wgraham/.pyenv/versions/3.9.13/lib/python3.9/site-packages (from nbconvert>=5->notebook>=4.4.1->widgetsnbextension~=3.6.4->ipywidgets<8.0.0->leafmap) (0.2.2)\n",
      "Requirement already satisfied: mistune<3,>=2.0.3 in /Users/wgraham/.pyenv/versions/3.9.13/lib/python3.9/site-packages (from nbconvert>=5->notebook>=4.4.1->widgetsnbextension~=3.6.4->ipywidgets<8.0.0->leafmap) (2.0.5)\n",
      "Requirement already satisfied: nbclient>=0.5.0 in /Users/wgraham/.pyenv/versions/3.9.13/lib/python3.9/site-packages (from nbconvert>=5->notebook>=4.4.1->widgetsnbextension~=3.6.4->ipywidgets<8.0.0->leafmap) (0.7.2)\n",
      "Requirement already satisfied: pandocfilters>=1.4.1 in /Users/wgraham/.pyenv/versions/3.9.13/lib/python3.9/site-packages (from nbconvert>=5->notebook>=4.4.1->widgetsnbextension~=3.6.4->ipywidgets<8.0.0->leafmap) (1.5.0)\n",
      "Requirement already satisfied: importlib-metadata>=3.6 in /Users/wgraham/.pyenv/versions/3.9.13/lib/python3.9/site-packages (from nbconvert>=5->notebook>=4.4.1->widgetsnbextension~=3.6.4->ipywidgets<8.0.0->leafmap) (6.0.0)\n",
      "Requirement already satisfied: defusedxml in /Users/wgraham/.pyenv/versions/3.9.13/lib/python3.9/site-packages (from nbconvert>=5->notebook>=4.4.1->widgetsnbextension~=3.6.4->ipywidgets<8.0.0->leafmap) (0.7.1)\n",
      "Requirement already satisfied: tinycss2 in /Users/wgraham/.pyenv/versions/3.9.13/lib/python3.9/site-packages (from nbconvert>=5->notebook>=4.4.1->widgetsnbextension~=3.6.4->ipywidgets<8.0.0->leafmap) (1.2.1)\n",
      "Requirement already satisfied: bleach in /Users/wgraham/.pyenv/versions/3.9.13/lib/python3.9/site-packages (from nbconvert>=5->notebook>=4.4.1->widgetsnbextension~=3.6.4->ipywidgets<8.0.0->leafmap) (6.0.0)\n",
      "Requirement already satisfied: fastjsonschema in /Users/wgraham/.pyenv/versions/3.9.13/lib/python3.9/site-packages (from nbformat->notebook>=4.4.1->widgetsnbextension~=3.6.4->ipywidgets<8.0.0->leafmap) (2.16.2)\n",
      "Requirement already satisfied: jsonschema>=2.6 in /Users/wgraham/.pyenv/versions/3.9.13/lib/python3.9/site-packages (from nbformat->notebook>=4.4.1->widgetsnbextension~=3.6.4->ipywidgets<8.0.0->leafmap) (4.17.3)\n",
      "Requirement already satisfied: argon2-cffi-bindings in /Users/wgraham/.pyenv/versions/3.9.13/lib/python3.9/site-packages (from argon2-cffi->notebook>=4.4.1->widgetsnbextension~=3.6.4->ipywidgets<8.0.0->leafmap) (21.2.0)\n",
      "Requirement already satisfied: attrs>=17.4.0 in /Users/wgraham/.pyenv/versions/3.9.13/lib/python3.9/site-packages (from jsonschema>=2.6->nbformat->notebook>=4.4.1->widgetsnbextension~=3.6.4->ipywidgets<8.0.0->leafmap) (22.1.0)\n",
      "Requirement already satisfied: pyrsistent!=0.17.0,!=0.17.1,!=0.17.2,>=0.14.0 in /Users/wgraham/.pyenv/versions/3.9.13/lib/python3.9/site-packages (from jsonschema>=2.6->nbformat->notebook>=4.4.1->widgetsnbextension~=3.6.4->ipywidgets<8.0.0->leafmap) (0.19.2)\n",
      "Requirement already satisfied: anyio<4,>=3.1.0 in /Users/wgraham/.pyenv/versions/3.9.13/lib/python3.9/site-packages (from jupyter-server>=1.17.0->nbclassic>=0.4.7->notebook>=4.4.1->widgetsnbextension~=3.6.4->ipywidgets<8.0.0->leafmap) (3.6.2)\n",
      "Requirement already satisfied: websocket-client in /Users/wgraham/.pyenv/versions/3.9.13/lib/python3.9/site-packages (from jupyter-server>=1.17.0->nbclassic>=0.4.7->notebook>=4.4.1->widgetsnbextension~=3.6.4->ipywidgets<8.0.0->leafmap) (1.5.1)\n",
      "Requirement already satisfied: cffi>=1.0.1 in /Users/wgraham/.local/lib/python3.9/site-packages (from argon2-cffi-bindings->argon2-cffi->notebook>=4.4.1->widgetsnbextension~=3.6.4->ipywidgets<8.0.0->leafmap) (1.15.1)\n",
      "Requirement already satisfied: webencodings in /Users/wgraham/.pyenv/versions/3.9.13/lib/python3.9/site-packages (from bleach->nbconvert>=5->notebook>=4.4.1->widgetsnbextension~=3.6.4->ipywidgets<8.0.0->leafmap) (0.5.1)\n",
      "Requirement already satisfied: sniffio>=1.1 in /Users/wgraham/.pyenv/versions/3.9.13/lib/python3.9/site-packages (from anyio<4,>=3.1.0->jupyter-server>=1.17.0->nbclassic>=0.4.7->notebook>=4.4.1->widgetsnbextension~=3.6.4->ipywidgets<8.0.0->leafmap) (1.3.0)\n",
      "Requirement already satisfied: pycparser in /Users/wgraham/.local/lib/python3.9/site-packages (from cffi>=1.0.1->argon2-cffi-bindings->argon2-cffi->notebook>=4.4.1->widgetsnbextension~=3.6.4->ipywidgets<8.0.0->leafmap) (2.21)\n"
     ]
    }
   ],
   "source": [
    "!pip install leafmap"
   ]
  },
  {
   "attachments": {},
   "cell_type": "markdown",
   "metadata": {},
   "source": [
    "# Working with US Census Data\n",
    "\n",
    "This is a tutorial on getting started working with US Census data and displaying it on a map. This will use [leafmap](https://leafmap.org/) to access the TIGER census data."
   ]
  },
  {
   "cell_type": "code",
   "execution_count": 2,
   "metadata": {},
   "outputs": [],
   "source": [
    "import leafmap"
   ]
  },
  {
   "cell_type": "code",
   "execution_count": 3,
   "metadata": {},
   "outputs": [],
   "source": [
    "census_data_dict = leafmap.get_census_dict()"
   ]
  },
  {
   "cell_type": "code",
   "execution_count": 4,
   "metadata": {},
   "outputs": [
    {
     "name": "stdout",
     "output_type": "stream",
     "text": [
      "Current\n",
      "ACS 2021\n",
      "ACS 2019\n",
      "ACS 2018\n",
      "ACS 2017\n",
      "ACS 2016\n",
      "ACS 2015\n",
      "ACS 2014\n",
      "ACS 2013\n",
      "ACS 2012\n",
      "ECON 2012\n",
      "Census 2020\n",
      "Census 2010\n",
      "Physical Features\n",
      "Decennial Census 2020\n",
      "Decennial Census 2010\n",
      "Decennial Census 2000\n",
      "Decennial Physical Features\n"
     ]
    }
   ],
   "source": [
    "for key in census_data_dict:\n",
    "    print(key)"
   ]
  },
  {
   "attachments": {},
   "cell_type": "markdown",
   "metadata": {},
   "source": [
    "Now we need to access the layers for the Census 2020 WMS service"
   ]
  },
  {
   "cell_type": "code",
   "execution_count": 5,
   "metadata": {},
   "outputs": [
    {
     "data": {
      "text/plain": [
       "['Alaska_Native_Regional_Corporations10465',\n",
       " 'Alaska_Native_Regional_Corporations_Labels60868',\n",
       " 'Alaska_Native_Village_Statistical_Areas34178',\n",
       " 'Alaska_Native_Village_Statistical_Areas_Labels14319',\n",
       " 'American_Indian_Joint-Use_Areas11842',\n",
       " 'American_Indian_Joint-Use_Areas_Labels32943',\n",
       " 'Census_Block_Groups59805',\n",
       " 'Census_Block_Groups_Labels32376',\n",
       " 'Census_Blocks1978',\n",
       " 'Census_Blocks_Labels63431',\n",
       " 'Census_Designated_Places65166',\n",
       " 'Census_Designated_Places_Labels61459',\n",
       " 'Census_Divisions8578',\n",
       " 'Census_Divisions_Labels29679',\n",
       " 'Census_Regions16659',\n",
       " 'Census_Regions_Labels31526',\n",
       " 'Census_Tracts7651',\n",
       " 'Census_Tracts_Labels33558',\n",
       " 'Combined_New_England_City_and_Town_Areas35117',\n",
       " 'Combined_New_England_City_and_Town_Areas_Labels20328',\n",
       " 'Combined_Statistical_Areas61231',\n",
       " 'Combined_Statistical_Areas_Labels52090',\n",
       " 'Consolidated_Cities65047',\n",
       " 'Consolidated_Cities_Labels30018',\n",
       " 'Counties',\n",
       " 'Counties_Labels19364',\n",
       " 'County_Subdivisions63689',\n",
       " 'County_Subdivisions_Labels25452',\n",
       " 'Elementary_School_Districts36200',\n",
       " 'Elementary_School_Districts_Labels21637',\n",
       " 'Estates',\n",
       " 'Estates_Labels15809',\n",
       " 'Federal_American_Indian_Reservations63680',\n",
       " 'Federal_American_Indian_Reservations_Labels65437',\n",
       " 'Hawaiian_Home_Lands45702',\n",
       " 'Hawaiian_Home_Lands_Labels15115',\n",
       " 'Incorporated_Places1469',\n",
       " 'Incorporated_Places_Labels58904',\n",
       " 'Metropolitan_Divisions40847',\n",
       " 'Metropolitan_Divisions_Labels25946',\n",
       " 'Metropolitan_New_England_City_and_Town_Areas62616',\n",
       " 'Metropolitan_New_England_City_and_Town_Areas_Labels59733',\n",
       " 'Metropolitan_Statistical_Areas62762',\n",
       " 'Metropolitan_Statistical_Areas_Labels6295',\n",
       " 'Micropolitan_New_England_City_and_Town_Areas31587',\n",
       " 'Micropolitan_New_England_City_and_Town_Areas_Labels33942',\n",
       " 'Micropolitan_Statistical_Areas31521',\n",
       " 'Micropolitan_Statistical_Areas_Labels772',\n",
       " 'New_England_City_and_Town_Area_Divisions60153',\n",
       " 'New_England_City_and_Town_Area__Divisions_Labels46148',\n",
       " 'Off-Reservation_Trust_Lands54343',\n",
       " 'Off-Reservation_Trust_Lands_Labels18066',\n",
       " 'Oklahoma_Tribal_Statistical_Areas50120',\n",
       " 'Oklahoma_Tribal_Statistical_Areas_Labels48357',\n",
       " 'Secondary_School_Districts43718',\n",
       " 'Secondary_School_Districts_Labels36427',\n",
       " 'State_American_Indian_Reservations3874',\n",
       " 'State_American_Indian_Reservations_Labels35471',\n",
       " 'State_Designated_Tribal_Statistical_Areas1347',\n",
       " 'State_Designated_Tribal_Statistical_Areas_Labels45558',\n",
       " 'States',\n",
       " 'States_Labels49388',\n",
       " 'Subbarrios',\n",
       " 'Subbarrios_Labels47498',\n",
       " 'Tribal_Block_Groups26640',\n",
       " 'Tribal_Block_Groups_Labels32973',\n",
       " 'Tribal_Census_Tracts2987',\n",
       " 'Tribal_Census_Tracts_Labels1374',\n",
       " 'Tribal_Designated_Statistical_Areas45836',\n",
       " 'Tribal_Designated_Statistical_Areas_Labels6465',\n",
       " 'Tribal_Subdivisions42483',\n",
       " 'Tribal_Subdivisions_Labels35078',\n",
       " 'Unified_School_Districts15496',\n",
       " 'Unified_School_Districts_Labels28837',\n",
       " 'Urban_Growth_Areas59666',\n",
       " 'Urban_Growth_Areas_Labels47199',\n",
       " 'Voting_Districts56637',\n",
       " 'Voting_Districts_Labels20888',\n",
       " 'Zip_Code_Tabulation_Areas4692',\n",
       " 'Zip_Code_Tabulation_Areas_Labels47657',\n",
       " '_018_State_Legislative_Districts_-_Lower20349',\n",
       " '_018_State_Legislative_Districts_-_Lower_Labels7384',\n",
       " '_018_State_Legislative_Districts_-_Upper25708',\n",
       " '_018_State_Legislative_Districts_-_Upper_Labels34849',\n",
       " '_16th_Congressional_Districts4189',\n",
       " '_16th_Congressional_Districts_Labels3128']"
      ]
     },
     "execution_count": 5,
     "metadata": {},
     "output_type": "execute_result"
    }
   ],
   "source": [
    "census_data_dict['Census 2020']['layers']"
   ]
  },
  {
   "cell_type": "code",
   "execution_count": 8,
   "metadata": {},
   "outputs": [
    {
     "data": {
      "application/vnd.jupyter.widget-view+json": {
       "model_id": "06ba51ffc2ff4fcfaaaddc6497d95fdb",
       "version_major": 2,
       "version_minor": 0
      },
      "text/plain": [
       "Map(center=[20, 0], controls=(ZoomControl(options=['position', 'zoom_in_text', 'zoom_in_title', 'zoom_out_text…"
      ]
     },
     "metadata": {},
     "output_type": "display_data"
    }
   ],
   "source": [
    "m = leafmap.Map()\n",
    "m.add_census_data(wms=\"Census 2020\", layer=\"States\")\n",
    "m.add_census_data(wms=\"Census 2020\", layer=\"States_Labels49388\")\n",
    "m"
   ]
  }
 ],
 "metadata": {
  "kernelspec": {
   "display_name": "Python 3",
   "language": "python",
   "name": "python3"
  },
  "language_info": {
   "codemirror_mode": {
    "name": "ipython",
    "version": 3
   },
   "file_extension": ".py",
   "mimetype": "text/x-python",
   "name": "python",
   "nbconvert_exporter": "python",
   "pygments_lexer": "ipython3",
   "version": "3.9.13"
  },
  "orig_nbformat": 4
 },
 "nbformat": 4,
 "nbformat_minor": 2
}
